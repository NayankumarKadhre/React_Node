{
 "cells": [
  {
   "cell_type": "code",
   "execution_count": 1,
   "id": "2f075fbd",
   "metadata": {},
   "outputs": [],
   "source": [
    "import os\n",
    "import cv2\n",
    "import numpy as np\n",
    "from keras.models import Sequential, load_model\n",
    "from keras.layers import Dense, Dropout, Flatten, LSTM\n",
    "from keras.layers.convolutional import Conv2D, MaxPooling2D\n",
    "from keras.utils import np_utils\n",
    "from sklearn.model_selection import KFold"
   ]
  },
  {
   "cell_type": "code",
   "execution_count": 2,
   "id": "7ddeb18d",
   "metadata": {},
   "outputs": [],
   "source": [
    "# Define the number of classes\n",
    "num_classes = 10\n",
    "\n",
    "# Define image size and number of channels\n",
    "img_rows, img_cols, img_channels = 32, 32, 1\n",
    "\n",
    "# Define the CNN-LSTM model\n",
    "model = Sequential()\n",
    "model.add(Conv2D(32, (3, 3), padding='same', activation='relu', input_shape=(img_rows, img_cols, img_channels)))\n",
    "model.add(MaxPooling2D(pool_size=(2, 2)))\n",
    "model.add(Conv2D(64, (3, 3), padding='same', activation='relu'))\n",
    "model.add(MaxPooling2D(pool_size=(2, 2)))\n",
    "from keras.layers import Reshape\n",
    "from keras.layers import TimeDistributed, LSTM, Dense\n",
    "model.add(Flatten())\n",
    "model.add(Reshape((8, 8, 64)))\n",
    "model.add(TimeDistributed(Flatten()))\n",
    "model.add(TimeDistributed(Dense(128)))\n",
    "model.add(LSTM(128, return_sequences=True))\n",
    "model.add(Dropout(0.2))\n",
    "model.add(LSTM(128))\n",
    "model.add(Dropout(0.2))\n",
    "model.add(Dense(num_classes, activation='softmax'))\n",
    "\n",
    "# Compile the model\n",
    "model.compile(loss='categorical_crossentropy', optimizer='adam', metrics=['accuracy'])"
   ]
  },
  {
   "cell_type": "code",
   "execution_count": 3,
   "id": "b48ea868",
   "metadata": {},
   "outputs": [],
   "source": [
    "# Define the number of folds\n",
    "K = 3\n",
    "\n",
    "# Define the KFold object\n",
    "kf = KFold(n_splits=K, shuffle=True)\n",
    "\n",
    "# Define lists to store the accuracy and loss for each fold\n",
    "acc_per_fold = []\n",
    "loss_per_fold = []\n",
    "\n",
    "# Load the dataset\n",
    "def load_dataset(dataset_path):\n",
    "    X = []\n",
    "    y = []\n",
    "    for digit in range(num_classes):\n",
    "        digit_path = os.path.join(dataset_path, str(digit))\n",
    "        for filename in os.listdir(digit_path):\n",
    "            image_path = os.path.join(digit_path, filename)\n",
    "            image = cv2.imread(image_path, cv2.IMREAD_GRAYSCALE)\n",
    "            image = cv2.resize(image, (img_rows, img_cols))\n",
    "            X.append(image)\n",
    "            y.append(digit)\n",
    "    X = np.array(X)\n",
    "    y = np.array(y)\n",
    "    X = X.reshape(X.shape[0], img_rows, img_cols, img_channels)\n",
    "    X = X.astype('float32')\n",
    "    X /= 255\n",
    "    y = np_utils.to_categorical(y, num_classes)\n",
    "    return X, y"
   ]
  },
  {
   "cell_type": "code",
   "execution_count": 5,
   "id": "355d9340",
   "metadata": {},
   "outputs": [
    {
     "name": "stdout",
     "output_type": "stream",
     "text": [
      "Epoch 1/20\n",
      "266/266 [==============================] - 23s 63ms/step - loss: 0.5822 - accuracy: 0.7953\n",
      "Epoch 2/20\n",
      "266/266 [==============================] - 17s 65ms/step - loss: 0.1001 - accuracy: 0.9690\n",
      "Epoch 3/20\n",
      "266/266 [==============================] - 16s 60ms/step - loss: 0.0511 - accuracy: 0.9840\n",
      "Epoch 4/20\n",
      "266/266 [==============================] - 16s 60ms/step - loss: 0.0368 - accuracy: 0.9875\n",
      "Epoch 5/20\n",
      "266/266 [==============================] - 16s 61ms/step - loss: 0.0200 - accuracy: 0.9938\n",
      "Epoch 6/20\n",
      "266/266 [==============================] - 16s 60ms/step - loss: 0.0121 - accuracy: 0.9965\n",
      "Epoch 7/20\n",
      "266/266 [==============================] - 16s 60ms/step - loss: 0.0198 - accuracy: 0.9938\n",
      "Epoch 8/20\n",
      "266/266 [==============================] - 16s 60ms/step - loss: 0.0154 - accuracy: 0.9954\n",
      "Epoch 9/20\n",
      "266/266 [==============================] - 16s 61ms/step - loss: 0.0134 - accuracy: 0.9958\n",
      "Epoch 10/20\n",
      "266/266 [==============================] - 16s 60ms/step - loss: 0.0150 - accuracy: 0.9948\n",
      "Epoch 11/20\n",
      "266/266 [==============================] - 16s 60ms/step - loss: 0.0089 - accuracy: 0.9972\n",
      "Epoch 12/20\n",
      "266/266 [==============================] - 16s 60ms/step - loss: 0.0067 - accuracy: 0.9980\n",
      "Epoch 13/20\n",
      "266/266 [==============================] - 16s 61ms/step - loss: 0.0061 - accuracy: 0.9981\n",
      "Epoch 14/20\n",
      "266/266 [==============================] - 16s 60ms/step - loss: 0.0161 - accuracy: 0.9955\n",
      "Epoch 15/20\n",
      "266/266 [==============================] - 16s 60ms/step - loss: 0.0086 - accuracy: 0.9975\n",
      "Epoch 16/20\n",
      "266/266 [==============================] - 16s 60ms/step - loss: 0.0013 - accuracy: 0.9998\n",
      "Epoch 17/20\n",
      "266/266 [==============================] - 16s 60ms/step - loss: 0.0027 - accuracy: 0.9994\n",
      "Epoch 18/20\n",
      "266/266 [==============================] - 17s 64ms/step - loss: 7.0309e-04 - accuracy: 0.9999\n",
      "Epoch 19/20\n",
      "266/266 [==============================] - 17s 62ms/step - loss: 3.5471e-04 - accuracy: 0.9999\n",
      "Epoch 20/20\n",
      "266/266 [==============================] - 17s 62ms/step - loss: 2.7387e-04 - accuracy: 0.9999\n"
     ]
    }
   ],
   "source": [
    "# Load train dataset\n",
    "train_X, train_y = load_dataset('C:/Users/Nayan/Desktop/Project/DevanagariHandwrittenDigitDataset/Train')\n",
    "\n",
    "def train_model(train_X, train_y):\n",
    "    # Train the model on the training data\n",
    "    model.fit(train_X, train_y, epochs=20, batch_size=64)\n",
    "\n",
    "    # Save the trained model to disk\n",
    "    model.save('model.h5')\n",
    "\n",
    "train_model(train_X, train_y)"
   ]
  },
  {
   "cell_type": "code",
   "execution_count": 6,
   "id": "44082c05",
   "metadata": {},
   "outputs": [],
   "source": [
    "def predict(image):\n",
    "    # Load the saved model\n",
    "    saved_model = load_model('model.h5')\n",
    "\n",
    "    # Preprocess the input image\n",
    "    image = cv2.resize(image, (img_rows, img_cols))\n",
    "    image = image.reshape(1, img_rows, img_cols, img_channels)\n",
    "    image = image.astype('float32')\n",
    "    image /= 255\n",
    "\n",
    "    # Get the predicted class label\n",
    "    pred = saved_model.predict(image)\n",
    "    label = np.argmax(pred)\n",
    "\n",
    "    return label"
   ]
  },
  {
   "cell_type": "code",
   "execution_count": null,
   "id": "a5182dc3",
   "metadata": {},
   "outputs": [],
   "source": []
  },
  {
   "cell_type": "code",
   "execution_count": null,
   "id": "df3a8676",
   "metadata": {},
   "outputs": [],
   "source": []
  },
  {
   "cell_type": "code",
   "execution_count": null,
   "id": "92abec1d",
   "metadata": {},
   "outputs": [],
   "source": []
  },
  {
   "cell_type": "code",
   "execution_count": null,
   "id": "e68579ad",
   "metadata": {},
   "outputs": [],
   "source": []
  },
  {
   "cell_type": "code",
   "execution_count": null,
   "id": "27fcb080",
   "metadata": {},
   "outputs": [],
   "source": []
  },
  {
   "cell_type": "code",
   "execution_count": null,
   "id": "b04915ef",
   "metadata": {},
   "outputs": [],
   "source": []
  },
  {
   "cell_type": "code",
   "execution_count": null,
   "id": "3d9dd0e1",
   "metadata": {},
   "outputs": [],
   "source": []
  }
 ],
 "metadata": {
  "kernelspec": {
   "display_name": "Python 3 (ipykernel)",
   "language": "python",
   "name": "python3"
  },
  "language_info": {
   "codemirror_mode": {
    "name": "ipython",
    "version": 3
   },
   "file_extension": ".py",
   "mimetype": "text/x-python",
   "name": "python",
   "nbconvert_exporter": "python",
   "pygments_lexer": "ipython3",
   "version": "3.9.12"
  }
 },
 "nbformat": 4,
 "nbformat_minor": 5
}
